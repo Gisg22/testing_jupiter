{
 "cells": [
  {
   "cell_type": "markdown",
   "id": "3a73cdc2",
   "metadata": {},
   "source": [
    "# Data Science Introduction Notebook"
   ]
  },
  {
   "cell_type": "markdown",
   "id": "410e65e1",
   "metadata": {},
   "source": [
    "## Introduction\n",
    "This notebook provides an overview of essential data science concepts, languages, libraries, and tools. It also includes examples of basic arithmetic operations and conversions."
   ]
  },
  {
   "cell_type": "markdown",
   "id": "1ad6c6e2",
   "metadata": {},
   "source": [
    "## Data Science Languages\n",
    "- Python\n",
    "- R\n",
    "- SQL\n",
    "- Julia\n",
    "- Scala"
   ]
  },
  {
   "cell_type": "markdown",
   "id": "708f25e7",
   "metadata": {},
   "source": [
    "## Data Science Libraries\n",
    "- Pandas\n",
    "- NumPy\n",
    "- Matplotlib\n",
    "- Seaborn\n",
    "- Scikit-learn\n",
    "- TensorFlow\n",
    "- Keras\n",
    "- PyTorch"
   ]
  },
  {
   "cell_type": "markdown",
   "id": "a95d8e48",
   "metadata": {},
   "source": [
    "## Data Science Tools\n",
    "\n",
    "| Tool            | Description                              |\n",
    "|-----------------|------------------------------------------|\n",
    "| Jupyter Notebook| Interactive computing environment       |\n",
    "| RStudio         | Integrated development environment for R |\n",
    "| Apache Hadoop   | Framework for distributed storage and processing of large data sets |\n",
    "| Apache Spark    | Unified analytics engine for big data processing |\n",
    "| Tableau         | Data visualization tool                  |"
   ]
  },
  {
   "cell_type": "markdown",
   "id": "09abb9f3",
   "metadata": {},
   "source": [
    "## Arithmetic Expression Examples\n",
    "Below are examples of basic arithmetic operations such as addition, multiplication, and conversion."
   ]
  },
  {
   "cell_type": "code",
   "execution_count": 6,
   "id": "de39052e",
   "metadata": {},
   "outputs": [
    {
     "data": {
      "text/plain": [
       "(50, 15)"
      ]
     },
     "execution_count": 6,
     "metadata": {},
     "output_type": "execute_result"
    }
   ],
   "source": [
    "a = 5\n",
    "b = 10\n",
    "multiplication_result = a * b\n",
    "addition_result = a + b\n",
    "multiplication_result, addition_result"
   ]
  },
  {
   "cell_type": "code",
   "execution_count": 7,
   "id": "795ca087",
   "metadata": {},
   "outputs": [
    {
     "data": {
      "text/plain": [
       "2.0"
      ]
     },
     "execution_count": 7,
     "metadata": {},
     "output_type": "execute_result"
    }
   ],
   "source": [
    "minutes = 120\n",
    "hours = minutes / 60\n",
    "hours"
   ]
  },
  {
   "cell_type": "markdown",
   "id": "cbe8b247",
   "metadata": {},
   "source": [
    "## Objectives\n",
    "- Understand basic data science languages and libraries\n",
    "- Learn about essential data science tools\n",
    "- Practice basic arithmetic operations and conversions"
   ]
  },
  {
   "cell_type": "markdown",
   "id": "8f20a2a1",
   "metadata": {},
   "source": [
    "**Author:** Dina Kabylbekova"
   ]
  },
  {
   "cell_type": "code",
   "execution_count": null,
   "id": "195d551e",
   "metadata": {},
   "outputs": [],
   "source": []
  }
 ],
 "metadata": {
  "kernelspec": {
   "display_name": "Python 3 (ipykernel)",
   "language": "python",
   "name": "python3"
  },
  "language_info": {
   "codemirror_mode": {
    "name": "ipython",
    "version": 3
   },
   "file_extension": ".py",
   "mimetype": "text/x-python",
   "name": "python",
   "nbconvert_exporter": "python",
   "pygments_lexer": "ipython3",
   "version": "3.10.9"
  }
 },
 "nbformat": 4,
 "nbformat_minor": 5
}
